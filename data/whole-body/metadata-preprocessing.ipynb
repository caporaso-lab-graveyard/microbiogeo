{
 "metadata": {
  "name": "",
  "signature": "sha256:44241d15b9a7afd1996392345f06cd52546589a540b10f913c47b555491cad4c"
 },
 "nbformat": 3,
 "nbformat_minor": 0,
 "worksheets": [
  {
   "cells": [
    {
     "cell_type": "heading",
     "level": 1,
     "metadata": {},
     "source": [
      "Whole Body mapping file preprocessing"
     ]
    },
    {
     "cell_type": "markdown",
     "metadata": {},
     "source": [
      "**Note:** The following code/text was taken and modified from [@gregcaporaso](https://github.com/gregcaporaso)'s [cloaked-octo-ninja](https://github.com/gregcaporaso/cloaked-octo-ninja) repository (specifically, [this section](http://nbviewer.ipython.org/github/gregcaporaso/cloaked-octo-ninja/blob/master/sample-metadata/sample-metadata-cleanup.ipynb#Whole-Body-mapping-file) of his metadata-cleanup IPython Notebook).\n",
      "\n",
      "Create a `body_habitat_basic` column, which reflects the known grouping of the samples into gut, oral, and skin/other microbial communities (as presented in Figure 1 of [Costello et al. (2009)](http://www.ncbi.nlm.nih.gov/pubmed/19892944))."
     ]
    },
    {
     "cell_type": "code",
     "collapsed": false,
     "input": [
      "import pandas as pd\n",
      "df = pd.read_csv('map.txt.orig', sep='\\t', index_col='#SampleID')"
     ],
     "language": "python",
     "metadata": {},
     "outputs": [
      {
       "output_type": "stream",
       "stream": "stderr",
       "text": [
        "/home/jrideout/.virtualenvs/microbiogeo/local/lib/python2.7/site-packages/pandas/io/excel.py:626: UserWarning: Installed openpyxl is not supported at this time. Use >=1.6.1 and <2.0.0.\n",
        "  .format(openpyxl_compat.start_ver, openpyxl_compat.stop_ver))\n"
       ]
      }
     ],
     "prompt_number": 1
    },
    {
     "cell_type": "code",
     "collapsed": false,
     "input": [
      "env_matter_to_body_habitat_basic = {\n",
      "    'ENVO:mucus':'skin/other', 'ENVO:sebum':'skin/other', 'ENVO:sweat':'skin/other', \n",
      "    'ENVO:ear wax':'skin/other', 'ENVO:feces':'gut', 'ENVO:urine':'skin/other',\n",
      "    'ENVO:saliva':'oral'\n",
      "}\n",
      "\n",
      "# Insert new column at end of data frame, before Description column.\n",
      "df.insert(len(df.columns) - 1, 'body_habitat_basic',\n",
      "          [env_matter_to_body_habitat_basic[env_matter] for env_matter in df['ENV_MATTER']])"
     ],
     "language": "python",
     "metadata": {},
     "outputs": [],
     "prompt_number": 2
    },
    {
     "cell_type": "code",
     "collapsed": false,
     "input": [
      "print(df.ENV_MATTER.unique())"
     ],
     "language": "python",
     "metadata": {},
     "outputs": [
      {
       "output_type": "stream",
       "stream": "stdout",
       "text": [
        "['ENVO:mucus' 'ENVO:sebum' 'ENVO:sweat' 'ENVO:ear wax' 'ENVO:feces'\n",
        " 'ENVO:urine' 'ENVO:saliva']\n"
       ]
      }
     ],
     "prompt_number": 3
    },
    {
     "cell_type": "code",
     "collapsed": false,
     "input": [
      "print(df.body_habitat_basic.unique())"
     ],
     "language": "python",
     "metadata": {},
     "outputs": [
      {
       "output_type": "stream",
       "stream": "stdout",
       "text": [
        "['skin/other' 'gut' 'oral']\n"
       ]
      }
     ],
     "prompt_number": 4
    },
    {
     "cell_type": "code",
     "collapsed": false,
     "input": [
      "df.to_csv('map.txt', sep='\\t', index_col='#SampleID')"
     ],
     "language": "python",
     "metadata": {},
     "outputs": [],
     "prompt_number": 5
    }
   ],
   "metadata": {}
  }
 ]
}