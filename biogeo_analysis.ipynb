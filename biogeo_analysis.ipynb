{
 "metadata": {
  "name": "biogeo_analysis"
 },
 "nbformat": 3,
 "nbformat_minor": 0,
 "worksheets": [
  {
   "cells": [
    {
     "cell_type": "heading",
     "level": 1,
     "metadata": {},
     "source": [
      "Generate distance matrices"
     ]
    },
    {
     "cell_type": "markdown",
     "metadata": {},
     "source": [
      "Generate distance matrices for each study at even sampling depths that exclude 5%, 25%, and 50% of the samples from the input OTU table (these numbers were calculated beforehand). Generate Euclidean, Bray-Curtis, weighted UniFrac, and unweighted UniFrac distance matrices at each sampling depth using the GreenGenes 97% tree."
     ]
    },
    {
     "cell_type": "code",
     "collapsed": false,
     "input": [
      "from os.path import join\n",
      "metrics = 'euclidean,bray_curtis,weighted_unifrac,unweighted_unifrac'\n",
      "studies = {\n",
      "           '88_soils': [400, 580, 660],\n",
      "           'glen_canyon': [15000, 29000, 53000],\n",
      "           'keyboard': [390, 780, 1015],\n",
      "           'whole_body': [575, 877, 1110]\n",
      "          }\n",
      "datasets = 'datasets'\n",
      "gg = 'gg_otus_4feb2011'\n",
      "gg_tree = join(gg,'trees','gg_97_otus_4feb2011.tre')\n",
      "\n",
      "!mkdir -f output\n",
      "for study, depths in studies.items():\n",
      "    in_dir = '%s/%s' % (datasets, study)\n",
      "    out = 'output/%s' % study\n",
      "    !mkdir $out\n",
      "    !cp $in_dir/map.txt $out/\n",
      "    \n",
      "    for depth in depths:\n",
      "        full_biom = join(in_dir,'otu_table.biom')\n",
      "        even_biom = join(out,'otu_table_even%d.biom' % depth)\n",
      "        bdiv_out_dir = join(out,'bdiv_even%d' % depth)\n",
      "        !single_rarefaction.py -i $full_biom -o $even_biom -d $depth\n",
      "        !parallel_beta_diversity.py -i $even_biom -o $bdiv_out_dir -m $metrics -T -t $gg_tree"
     ],
     "language": "python",
     "metadata": {},
     "outputs": [],
     "prompt_number": "*"
    },
    {
     "cell_type": "code",
     "collapsed": false,
     "input": [],
     "language": "python",
     "metadata": {},
     "outputs": []
    }
   ],
   "metadata": {}
  }
 ]
}