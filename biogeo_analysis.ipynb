{
 "metadata": {
  "name": "biogeo_analysis"
 },
 "nbformat": 3,
 "nbformat_minor": 0,
 "worksheets": [
  {
   "cells": [
    {
     "cell_type": "heading",
     "level": 1,
     "metadata": {},
     "source": [
      "Generate distance matrices"
     ]
    },
    {
     "cell_type": "markdown",
     "metadata": {},
     "source": [
      "Generate distance matrices for each study at even sampling depths that exclude 5%, 25%, and 50% of the samples from the input OTU table (these numbers were calculated beforehand). Generate Euclidean, Bray-Curtis, weighted UniFrac, and unweighted UniFrac distance matrices at each sampling depth using the GreenGenes 97% tree. Also generate several shuffled versions of each distance matrix, which can be used later as negative controls."
     ]
    },
    {
     "cell_type": "code",
     "collapsed": true,
     "input": [
      "from os.path import join\n",
      "\n",
      "# Configure these how you like...\n",
      "metrics = ['euclidean', 'bray_curtis', 'weighted_unifrac', 'unweighted_unifrac']\n",
      "studies = {\n",
      "           '88_soils': [400, 580, 660], \n",
      "           'glen_canyon': [15000, 29000, 53000],\n",
      "           'keyboard': [390, 780, 1015],\n",
      "           'whole_body': [575, 877, 1110]\n",
      "          }\n",
      "datasets = 'datasets'\n",
      "gg = 'gg_otus_4feb2011'\n",
      "gg_tree = join(gg, 'trees', 'gg_97_otus_4feb2011.tre')\n",
      "out_dir = 'output'\n",
      "jobs_to_start = 2\n",
      "num_shuffled = 3\n",
      "\n",
      "!mkdir $out_dir\n",
      "for study, depths in studies.items():\n",
      "    in_dir = join(datasets, study)\n",
      "    out = join(out_dir, study)\n",
      "    !mkdir $out\n",
      "    !cp $in_dir/map.txt $out/\n",
      "    \n",
      "    for depth in depths:\n",
      "        full_biom = join(in_dir, 'otu_table.biom')\n",
      "        even_biom = join(out, 'otu_table_even%d.biom' % depth)\n",
      "        bdiv_out_dir = join(out, 'bdiv_even%d' % depth)\n",
      "        \n",
      "        metrics_param = ','.join(metrics)\n",
      "        !single_rarefaction.py -i $full_biom -o $even_biom -d $depth\n",
      "        !parallel_beta_diversity.py -i $even_biom -o $bdiv_out_dir -m $metrics_param -T -t $gg_tree -O $jobs_to_start\n",
      "        \n",
      "        # Rename each file to match QIIME's standard naming conventions of distance matrices. Generate shuffled versions of each distance matrix.\n",
      "        for metric in metrics:\n",
      "            dm_fp = join(bdiv_out_dir, '%s_otu_table_even%d.txt' % (metric, depth))\n",
      "            new_dm_fp = join(bdiv_out_dir, '%s_dm.txt' % metric)\n",
      "            !mv $dm_fp $new_dm_fp\n",
      "            for i in range(num_shuffled):\n",
      "                shuffled_dm_fp = join(bdiv_out_dir, '%s_dm_shuffled%d.txt' % (metric, i + 1))\n",
      "                !shuffle_distance_matrix.py -i $new_dm_fp -o $shuffled_dm_fp"
     ],
     "language": "python",
     "metadata": {},
     "outputs": []
    },
    {
     "cell_type": "heading",
     "level": 1,
     "metadata": {},
     "source": [
      "Run grouping analysis methods"
     ]
    },
    {
     "cell_type": "markdown",
     "metadata": {},
     "source": [
      "Run each *grouping analysis* statistical method on each distance matrix. These are methods that test out categorical variables such as sex, individual, body site, etc.."
     ]
    },
    {
     "cell_type": "code",
     "collapsed": false,
     "input": [
      "from os.path import basename, splitext\n",
      "\n",
      "# Configure these how you like...\n",
      "methods = ['adonis', 'anosim', 'mrpp', 'permanova', 'rda']\n",
      "study_cats_map = {\n",
      "                  '88_soils': ['ENV_BIOME'],\n",
      "                  'glen_canyon': ['CurrentlyWet'],\n",
      "                  'keyboard': ['HOST_SUBJECT_ID'],\n",
      "                  'whole_body': ['BODY_SITE', 'SEX']\n",
      "                 }\n",
      "data_dir = 'output'\n",
      "permutations = [99, 999, 9999]\n",
      "\n",
      "# There is some crazy nesting here, may need to break out into separate methods later on.\n",
      "for study, depths in studies.items():\n",
      "    study_dir = join(data_dir, study)\n",
      "    map_fp = join(study_dir, 'map.txt')\n",
      "    cats = study_cats_map[study]\n",
      "    \n",
      "    for depth in depths:\n",
      "        depth_dir = join(study_dir, 'bdiv_even%d' % depth)\n",
      "        \n",
      "        for metric in metrics:\n",
      "            dms = [join(depth_dir, '%s_dm.txt' % metric)]\n",
      "            for i in range(num_shuffled):\n",
      "                dms.append(join(depth_dir, '%s_dm_shuffled%d' % (metric, i + 1)))\n",
      "            \n",
      "            for dm in dms:\n",
      "                for method in methods:\n",
      "                    for cat in cats:\n",
      "                        for permutation in permutations:\n",
      "                            out_dir = join(depth_dir, '%s_%s_%s_%d' % (splitext(basename(dm))[0], method, cat, permutation))\n",
      "                            !compare_categories.py --method $method -n $permutation -i $dm -m $map_fp -c cat -o $out_dir"
     ],
     "language": "python",
     "metadata": {},
     "outputs": []
    }
   ],
   "metadata": {}
  }
 ]
}