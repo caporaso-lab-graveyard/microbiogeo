{
 "metadata": {
  "name": "biogeo_analysis"
 },
 "nbformat": 3,
 "nbformat_minor": 0,
 "worksheets": [
  {
   "cells": [
    {
     "cell_type": "heading",
     "level": 1,
     "metadata": {},
     "source": [
      "Set up workflow parameters"
     ]
    },
    {
     "cell_type": "markdown",
     "metadata": {},
     "source": [
      "Configure the variables in this section to control how the workflow will be executed. For example, what studies to analyze, categories of interest, etc.."
     ]
    },
    {
     "cell_type": "code",
     "collapsed": false,
     "input": [
      "from collections import defaultdict\n",
      "from os.path import basename, join, splitext\n",
      "from random import sample\n",
      "from qiime.filter import filter_samples_from_distance_matrix\n",
      "from qiime.parse import parse_distmat\n",
      "from qiime.util import MetadataMap\n",
      "\n",
      "test = True\n",
      "\n",
      "if test:\n",
      "    in_dir = 'test_datasets'\n",
      "    out_dir = 'test_output'\n",
      "    tree_fp = join('test_datasets', 'overview', 'rep_set.tre')\n",
      "    studies = {\n",
      "               'overview': {'depths': [50, 100, 146], 'categories': ['Treatment'], 'group_sizes': [3, 4]}\n",
      "              }\n",
      "    metrics = ['euclidean', 'bray_curtis']\n",
      "    grouping_methods = ['adonis', 'anosim']\n",
      "    permutations = [99, 999]\n",
      "    num_shuffled = 2\n",
      "    num_subsampled = 2\n",
      "    jobs_to_start = 2\n",
      "else:\n",
      "    in_dir = 'datasets'\n",
      "    out_dir = 'output'\n",
      "    tree_fp = join('gg_otus_4feb2011', 'trees', 'gg_97_otus_4feb2011.tre')\n",
      "    studies = {\n",
      "               '88_soils': {'depths': [400, 580, 660], 'categories': ['ENV_BIOME'], 'group_sizes': [5, 10, 20, 40]}, \n",
      "               'glen_canyon': {'depths': [15000, 29000, 53000], 'categories': ['CurrentlyWet'], 'group_sizes': [5, 10, 20, 40]},\n",
      "               'keyboard': {'depths': [390, 780, 1015], 'categories': ['HOST_SUBJECT_ID'], 'group_sizes': [5, 10, 20, 40]},\n",
      "               'whole_body': {'depths': [575, 877, 1110], 'categories': ['BODY_SITE', 'SEX'], 'group_sizes': [5, 10, 20, 40]}\n",
      "              }\n",
      "    metrics = ['euclidean', 'bray_curtis', 'weighted_unifrac', 'unweighted_unifrac']\n",
      "    grouping_methods = ['adonis', 'anosim', 'mrpp', 'permanova', 'rda']\n",
      "    permutations = [99, 999, 9999]\n",
      "    num_shuffled = 3\n",
      "    num_subsampled = 3\n",
      "    jobs_to_start = 2"
     ],
     "language": "python",
     "metadata": {},
     "outputs": [],
     "prompt_number": 10
    },
    {
     "cell_type": "heading",
     "level": 1,
     "metadata": {},
     "source": [
      "Generate distance matrices"
     ]
    },
    {
     "cell_type": "markdown",
     "metadata": {},
     "source": [
      "Generate distance matrices for each study at even sampling depths that exclude 5%, 25%, and 50% of the samples from the input OTU table (these numbers were calculated beforehand). Generate Euclidean, Bray-Curtis, weighted UniFrac, and unweighted UniFrac distance matrices at each sampling depth using the GreenGenes 97% tree. Also generate several shuffled versions of each distance matrix, which can be used later as negative controls.\n",
      "\n",
      "In addition, generate several subsampled versions of each distance matrix to control the size of each group of samples (based on a category), which can be used later to test how the methods perform on different study sizes."
     ]
    },
    {
     "cell_type": "code",
     "collapsed": true,
     "input": [
      "def subsample_dm(dm_f, map_f, category, group_size):\n",
      "    metadata_map = MetadataMap.parseMetadataMap(map_f)\n",
      "    category_map = defaultdict(list)\n",
      "    for samp_id in metadata_map.SampleIds:\n",
      "        category_val = metadata_map.getCategoryValue(samp_id, category)\n",
      "        category_map[category_val].append(samp_id)\n",
      "    \n",
      "    samp_ids_to_keep = []\n",
      "    for category_val, samp_ids in category_map.items():\n",
      "        samp_ids_to_keep.extend(sample(samp_ids, group_size))\n",
      "    return filter_samples_from_distance_matrix(parse_distmat(dm_f), samp_ids_to_keep, negate=True)\n",
      "\n",
      "!mkdir $out_dir\n",
      "for study in studies:\n",
      "    in_study_dir = join(in_dir, study)\n",
      "    out_study_dir = join(out_dir, study)\n",
      "    !mkdir $out_study_dir\n",
      "    !cp $in_study_dir/map.txt $out_study_dir/\n",
      "    map_fp = join(out_study_dir, 'map.txt')\n",
      "    \n",
      "    for depth in studies[study]['depths']:\n",
      "        full_otu_fp = join(in_study_dir, 'otu_table.biom')\n",
      "        even_otu_fp = join(out_study_dir, 'otu_table_even%d.biom' % depth)\n",
      "        bdiv_out_dir = join(out_study_dir, 'bdiv_even%d' % depth)\n",
      "        \n",
      "        metrics_param = ','.join(metrics)\n",
      "        !single_rarefaction.py -i $full_otu_fp -o $even_otu_fp -d $depth\n",
      "        !parallel_beta_diversity.py -i $even_otu_fp -o $bdiv_out_dir -m $metrics_param -T -t $tree_fp -O $jobs_to_start\n",
      "        \n",
      "        # Rename each file to match QIIME's standard naming conventions of distance matrices. Generate shuffled versions of each distance matrix.\n",
      "        for metric in metrics:\n",
      "            dm_fp = join(bdiv_out_dir, '%s_otu_table_even%d.txt' % (metric, depth))\n",
      "            renamed_dm_fp = join(bdiv_out_dir, '%s_dm.txt' % metric)\n",
      "            !mv $dm_fp $renamed_dm_fp\n",
      "            for i in range(1, num_shuffled + 1):\n",
      "                shuffled_dm_fp = join(bdiv_out_dir, '%s_dm_shuffled%d.txt' % (metric, i))\n",
      "                !shuffle_distance_matrix.py -i $renamed_dm_fp -o $shuffled_dm_fp\n",
      "            \n",
      "            # Create subsampled distance matrices.\n",
      "            for category in studies[study]['categories']:\n",
      "                for group_size in studies[study]['group_sizes']:\n",
      "                    for i in range(1, num_subsampled + 1):\n",
      "                        subsampled_dm_fp = join(bdiv_out_dir, '%s_dm_%s_ss%d_%d.txt' % (metric, category, group_size, i))\n",
      "                        subsampled_dm = open(subsampled_dm_fp, 'w')\n",
      "                        subsampled_dm.write(subsample_dm(open(renamed_dm_fp, 'U'), open(map_fp, 'U'), category, group_size))\n",
      "                        subsampled_dm.close()"
     ],
     "language": "python",
     "metadata": {},
     "outputs": [],
     "prompt_number": 11
    },
    {
     "cell_type": "heading",
     "level": 1,
     "metadata": {},
     "source": [
      "Run grouping analysis methods"
     ]
    },
    {
     "cell_type": "markdown",
     "metadata": {},
     "source": [
      "Run each *grouping analysis* statistical method on each distance matrix. These are methods that test out categorical variables such as sex, individual, body site, etc.."
     ]
    },
    {
     "cell_type": "code",
     "collapsed": false,
     "input": [
      "# There is some crazy nesting here, may need to break out into separate functions later on.\n",
      "for study in studies:\n",
      "    study_dir = join(out_dir, study)\n",
      "    map_fp = join(study_dir, 'map.txt')\n",
      "    categories = studies[study]['categories']\n",
      "    \n",
      "    for depth in studies[study]['depths']:\n",
      "        depth_dir = join(study_dir, 'bdiv_even%d' % depth)\n",
      "        dm_wildcard = join(depth_dir, '*_dm*.txt')\n",
      "        dm_fps = !ls $dm_wildcard\n",
      "        \n",
      "        for dm_fp in dm_fps:\n",
      "            for method in grouping_methods:\n",
      "                for category in categories:\n",
      "                    for permutation in permutations:\n",
      "                        dm_bn = basename(dm_fp)\n",
      "                        if 'dm.txt' in dm_bn or 'dm_shuffled' in dm_bn or 'dm_%s_ss' % category in dm_bn:\n",
      "                            results_dir = join(depth_dir, '%s_%s_%s_%d' % (splitext(dm_bn)[0], method, category, permutation))\n",
      "                            !compare_categories.py --method $method -n $permutation -i $dm_fp -m $map_fp -c $category -o $results_dir"
     ],
     "language": "python",
     "metadata": {},
     "outputs": [],
     "prompt_number": 14
    },
    {
     "cell_type": "heading",
     "level": 1,
     "metadata": {},
     "source": [
      "Build results summary tables"
     ]
    },
    {
     "cell_type": "markdown",
     "metadata": {},
     "source": [
      "Build tables to summarize the results of the statistical methods. These tables will be in TSV format so that they can be easily imported into Excel for viewing and cleanup for publication."
     ]
    },
    {
     "cell_type": "heading",
     "level": 1,
     "metadata": {},
     "source": [
      "Run gradient analysis methods"
     ]
    },
    {
     "cell_type": "markdown",
     "metadata": {},
     "source": [
      "Run each *gradient analysis* statistical method on each distance matrix. These are methods that test out continuous variables such as pH, latitude, etc.."
     ]
    }
   ],
   "metadata": {}
  }
 ]
}