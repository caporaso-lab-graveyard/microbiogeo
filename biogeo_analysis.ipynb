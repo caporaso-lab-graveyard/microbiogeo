{
 "metadata": {
  "name": "biogeo_analysis"
 },
 "nbformat": 3,
 "nbformat_minor": 0,
 "worksheets": [
  {
   "cells": [
    {
     "cell_type": "heading",
     "level": 1,
     "metadata": {},
     "source": [
      "Generate distance matrices"
     ]
    },
    {
     "cell_type": "markdown",
     "metadata": {},
     "source": [
      "Generate distance matrices for each study at even sampling depths that exclude 5%, 25%, and 50% of the samples from the input OTU table (these numbers were calculated beforehand). Generate Euclidean, Bray-Curtis, weighted UniFrac, and unweighted UniFrac distance matrices at each sampling depth using the GreenGenes 97% tree."
     ]
    },
    {
     "cell_type": "code",
     "collapsed": false,
     "input": [
      "metrics = 'euclidean,bray_curtis,weighted_unifrac,unweighted_unifrac'\n",
      "studies = {\n",
      "           '88_soils': [400, 580, 660],\n",
      "           'glen_canyon': [15000, 29000, 53000],\n",
      "           'keyboard': [390, 780, 1015],\n",
      "           'whole_body': [575, 877, 1110]\n",
      "          }\n",
      "datasets = 'datasets'\n",
      "gg = 'gg_otus_4feb2011'\n",
      "\n",
      "!mkdir output\n",
      "for study, depths in studies.items():\n",
      "    in_dir = '%s/%s' % (datasets, study)\n",
      "    out = 'output/%s' % study\n",
      "    !mkdir $out\n",
      "    !cp $in_dir/map.txt $out/\n",
      "    \n",
      "    for depth in depths:\n",
      "        !single_rarefaction.py -i $in_dir/otu_table.biom -o $out/otu_table_even$depth.biom -d $depth\n",
      "        !parallel_beta_diversity.py -i $out/otu_table_even$depth.biom -o $out/bdiv_even$depth -m $metrics -T -t $gg/trees/gg_97_otus_4feb2011.tre"
     ],
     "language": "python",
     "metadata": {},
     "outputs": [
      {
       "output_type": "stream",
       "stream": "stdout",
       "text": [
        "mkdir: output: File exists\r\n"
       ]
      },
      {
       "output_type": "stream",
       "stream": "stdout",
       "text": [
        "mkdir: output/glen_canyon: File exists\r\n"
       ]
      },
      {
       "output_type": "stream",
       "stream": "stdout",
       "text": [
        "Usage: single_rarefaction.py [options] {-i/--input_path INPUT_PATH -o/--output_path OUTPUT_PATH -d/--depth DEPTH}\r\n",
        "\r\n",
        "[] indicates optional input (order unimportant)\r\n",
        "{} indicates required input (order unimportant)\r\n",
        "\r\n",
        "To perform bootstrap, jackknife, and rarefaction analyses, the otu table must be subsampled (rarefied).  This script rarefies, or subsamples, an OTU table.  This does not provide curves of diversity by number of sequences in a sample. Rather it creates a subsampled OTU table by random sampling (without replacement) of the input OTU table.  Samples that have fewer sequences then the requested rarefaction depth are omitted from the ouput otu tables.  The pseudo-random number generator used for rarefaction by subsampling is NumPy's default - an implementation of the Mersenne twister PRNG.\r\n",
        "\r\n",
        "Example usage: \r\n",
        "Print help message and exit\r\n",
        " single_rarefaction.py -h\r\n",
        "\r\n",
        "Example: subsample otu_table.biom (-i) at 100 seqs/sample (-d), write results to otu_table_even100.txt (-o).\r\n",
        " single_rarefaction.py -i otu_table.biom -o otu_table_even100.biom -d 100\r\n",
        "\r\n",
        "single_rarefaction.py: error: option -i: file does not exist: 'datasets//otu_table.biom'\r\n"
       ]
      },
      {
       "output_type": "stream",
       "stream": "stdout",
       "text": [
        "Usage: single_rarefaction.py [options] {-i/--input_path INPUT_PATH -o/--output_path OUTPUT_PATH -d/--depth DEPTH}\r\n",
        "\r\n",
        "[] indicates optional input (order unimportant)\r\n",
        "{} indicates required input (order unimportant)\r\n",
        "\r\n",
        "To perform bootstrap, jackknife, and rarefaction analyses, the otu table must be subsampled (rarefied).  This script rarefies, or subsamples, an OTU table.  This does not provide curves of diversity by number of sequences in a sample. Rather it creates a subsampled OTU table by random sampling (without replacement) of the input OTU table.  Samples that have fewer sequences then the requested rarefaction depth are omitted from the ouput otu tables.  The pseudo-random number generator used for rarefaction by subsampling is NumPy's default - an implementation of the Mersenne twister PRNG.\r\n",
        "\r\n",
        "Example usage: \r\n",
        "Print help message and exit\r\n",
        " single_rarefaction.py -h\r\n",
        "\r\n",
        "Example: subsample otu_table.biom (-i) at 100 seqs/sample (-d), write results to otu_table_even100.txt (-o).\r\n",
        " single_rarefaction.py -i otu_table.biom -o otu_table_even100.biom -d 100\r\n",
        "\r\n",
        "single_rarefaction.py: error: option -i: file does not exist: 'datasets//otu_table.biom'\r\n"
       ]
      },
      {
       "output_type": "stream",
       "stream": "stdout",
       "text": [
        "Usage: single_rarefaction.py [options] {-i/--input_path INPUT_PATH -o/--output_path OUTPUT_PATH -d/--depth DEPTH}\r\n",
        "\r\n",
        "[] indicates optional input (order unimportant)\r\n",
        "{} indicates required input (order unimportant)\r\n",
        "\r\n",
        "To perform bootstrap, jackknife, and rarefaction analyses, the otu table must be subsampled (rarefied).  This script rarefies, or subsamples, an OTU table.  This does not provide curves of diversity by number of sequences in a sample. Rather it creates a subsampled OTU table by random sampling (without replacement) of the input OTU table.  Samples that have fewer sequences then the requested rarefaction depth are omitted from the ouput otu tables.  The pseudo-random number generator used for rarefaction by subsampling is NumPy's default - an implementation of the Mersenne twister PRNG.\r\n",
        "\r\n",
        "Example usage: \r\n",
        "Print help message and exit\r\n",
        " single_rarefaction.py -h\r\n",
        "\r\n",
        "Example: subsample otu_table.biom (-i) at 100 seqs/sample (-d), write results to otu_table_even100.txt (-o).\r\n",
        " single_rarefaction.py -i "
       ]
      },
      {
       "output_type": "stream",
       "stream": "stdout",
       "text": [
        "otu_table.biom -o otu_table_even100.biom -d 100\r\n",
        "\r\n",
        "single_rarefaction.py: error: option -i: file does not exist: 'datasets//otu_table.biom'\r\n"
       ]
      },
      {
       "output_type": "stream",
       "stream": "stdout",
       "text": [
        "mkdir: output/88_soils: File exists\r\n"
       ]
      },
      {
       "output_type": "stream",
       "stream": "stdout",
       "text": [
        "Usage: single_rarefaction.py [options] {-i/--input_path INPUT_PATH -o/--output_path OUTPUT_PATH -d/--depth DEPTH}\r\n",
        "\r\n",
        "[] indicates optional input (order unimportant)\r\n",
        "{} indicates required input (order unimportant)\r\n",
        "\r\n",
        "To perform bootstrap, jackknife, and rarefaction analyses, the otu table must be subsampled (rarefied).  This script rarefies, or subsamples, an OTU table.  This does not provide curves of diversity by number of sequences in a sample. Rather it creates a subsampled OTU table by random sampling (without replacement) of the input OTU table.  Samples that have fewer sequences then the requested rarefaction depth are omitted from the ouput otu tables.  The pseudo-random number generator used for rarefaction by subsampling is NumPy's default - an implementation of the Mersenne twister PRNG.\r\n",
        "\r\n",
        "Example usage: \r\n",
        "Print help message and exit\r\n",
        " single_rarefaction.py -h\r\n",
        "\r\n",
        "Example: subsample otu_table.biom (-i) at 100 seqs/sample (-d), write results to otu_table_even100.txt (-o).\r\n",
        " single_rarefaction.py -i "
       ]
      },
      {
       "output_type": "stream",
       "stream": "stdout",
       "text": [
        "otu_table.biom -o otu_table_even100.biom -d 100\r\n",
        "\r\n",
        "single_rarefaction.py: error: option -i: file does not exist: 'datasets//otu_table.biom'\r\n"
       ]
      },
      {
       "output_type": "stream",
       "stream": "stdout",
       "text": [
        "Usage: single_rarefaction.py [options] {-i/--input_path INPUT_PATH -o/--output_path OUTPUT_PATH -d/--depth DEPTH}\r\n",
        "\r\n",
        "[] indicates optional input (order unimportant)\r\n",
        "{} indicates required input (order unimportant)\r\n",
        "\r\n",
        "To perform bootstrap, jackknife, and rarefaction analyses, the otu table must be subsampled (rarefied).  This script rarefies, or subsamples, an OTU table.  This does not provide curves of diversity by number of sequences in a sample. Rather it creates a subsampled OTU table by random sampling (without replacement) of the input OTU table.  Samples that have fewer sequences then the requested rarefaction depth are omitted from the ouput otu tables.  The pseudo-random number generator used for rarefaction by subsampling is NumPy's default - an implementation of the Mersenne twister PRNG.\r\n",
        "\r\n",
        "Example usage: \r\n",
        "Print help message and exit\r\n",
        " single_rarefaction.py -h\r\n",
        "\r\n",
        "Example: subsample otu_table.biom (-i) at 100 seqs/sample (-d), write results to otu_table_even100.txt (-o).\r\n",
        " single_rarefaction.py -i otu_table.biom -o otu_table_even100.biom -d 100\r\n",
        "\r\n",
        "single_rarefaction.py: error: option -i: file does not exist: 'datasets//otu_table.biom'\r\n"
       ]
      },
      {
       "output_type": "stream",
       "stream": "stdout",
       "text": [
        "Usage: single_rarefaction.py [options] {-i/--input_path INPUT_PATH -o/--output_path OUTPUT_PATH -d/--depth DEPTH}\r\n",
        "\r\n",
        "[] indicates optional input (order unimportant)\r\n",
        "{} indicates required input (order unimportant)\r\n",
        "\r\n",
        "To perform bootstrap, jackknife, and rarefaction analyses, the otu table must be subsampled (rarefied).  This script rarefies, or subsamples, an OTU table.  This does not provide curves of diversity by number of sequences in a sample. Rather it creates a subsampled OTU table by random sampling (without replacement) of the input OTU table.  Samples that have fewer sequences then the requested rarefaction depth are omitted from the ouput otu tables.  The pseudo-random number generator used for rarefaction by subsampling is NumPy's default - an implementation of the Mersenne twister PRNG.\r\n",
        "\r\n",
        "Example usage: \r\n",
        "Print help message and exit\r\n",
        " single_rarefaction.py -h\r\n",
        "\r\n",
        "Example: subsample otu_table.biom (-i) at 100 seqs/sample (-d), write results to otu_table_even100.txt (-o).\r\n",
        " single_rarefaction.py -i otu_table.biom -o otu_table_even100.biom -d 100\r\n",
        "\r\n",
        "single_rarefaction.py: error: option -i: file does not exist: 'datasets//otu_table.biom'\r\n"
       ]
      },
      {
       "output_type": "stream",
       "stream": "stdout",
       "text": [
        "mkdir: output/whole_body: File exists\r\n"
       ]
      },
      {
       "output_type": "stream",
       "stream": "stdout",
       "text": [
        "Usage: single_rarefaction.py [options] {-i/--input_path INPUT_PATH -o/--output_path OUTPUT_PATH -d/--depth DEPTH}\r\n",
        "\r\n",
        "[] indicates optional input (order unimportant)\r\n",
        "{} indicates required input (order unimportant)\r\n",
        "\r\n",
        "To perform bootstrap, jackknife, and rarefaction analyses, the otu table must be subsampled (rarefied).  This script rarefies, or subsamples, an OTU table.  This does not provide curves of diversity by number of sequences in a sample. Rather it creates a subsampled OTU table by random sampling (without replacement) of the input OTU table.  Samples that have fewer sequences then the requested rarefaction depth are omitted from the ouput otu tables.  The pseudo-random number generator used for rarefaction by subsampling is NumPy's default - an implementation of the Mersenne twister PRNG.\r\n",
        "\r\n",
        "Example usage: \r\n",
        "Print help message and exit\r\n",
        " single_rarefaction.py -h\r\n",
        "\r\n",
        "Example: subsample otu_table.biom (-i) at 100 seqs/sample (-d), write results to otu_table_even100.txt (-o).\r\n",
        " single_rarefaction.py -i otu_table.biom -o otu_table_even100.biom -d 100\r\n",
        "\r\n",
        "single_rarefaction.py: error: option -i: file does not exist: 'datasets//otu_table.biom'\r\n"
       ]
      },
      {
       "output_type": "stream",
       "stream": "stdout",
       "text": [
        "Usage: single_rarefaction.py [options] {-i/--input_path INPUT_PATH -o/--output_path OUTPUT_PATH -d/--depth DEPTH}\r\n",
        "\r\n",
        "[] indicates optional input (order unimportant)\r\n",
        "{} indicates required input (order unimportant)\r\n",
        "\r\n",
        "To perform bootstrap, jackknife, and rarefaction analyses, the otu table must be subsampled (rarefied).  This script rarefies, or subsamples, an OTU table.  This does not provide curves of diversity by number of sequences in a sample. Rather it creates a subsampled OTU table by random sampling (without replacement) of the input OTU table.  Samples that have fewer sequences then the requested rarefaction depth are omitted from the ouput otu tables.  The pseudo-random number generator used for rarefaction by subsampling is NumPy's default - an implementation of the Mersenne twister PRNG.\r\n",
        "\r\n",
        "Example usage: \r\n",
        "Print help message and exit\r\n",
        " single_rarefaction.py -h\r\n",
        "\r\n",
        "Example: subsample otu_table.biom (-i) at 100 seqs/sample (-d), write results to otu_table_even100.txt (-o).\r\n",
        " single_rarefaction.py -i otu_table.biom -o otu_table_even100.biom -d 100\r\n",
        "\r\n",
        "single_rarefaction.py: error: option -i: file does not exist: 'datasets//otu_table.biom'\r\n"
       ]
      },
      {
       "output_type": "stream",
       "stream": "stdout",
       "text": [
        "Usage: single_rarefaction.py [options] {-i/--input_path INPUT_PATH -o/--output_path OUTPUT_PATH -d/--depth DEPTH}\r\n",
        "\r\n",
        "[] indicates optional input (order unimportant)\r\n",
        "{} indicates required input (order unimportant)\r\n",
        "\r\n",
        "To perform bootstrap, jackknife, and rarefaction analyses, the otu table must be subsampled (rarefied).  This script rarefies, or subsamples, an OTU table.  This does not provide curves of diversity by number of sequences in a sample. Rather it creates a subsampled OTU table by random sampling (without replacement) of the input OTU table.  Samples that have fewer sequences then the requested rarefaction depth are omitted from the ouput otu tables.  The pseudo-random number generator used for rarefaction by subsampling is NumPy's default - an implementation of the Mersenne twister PRNG.\r\n",
        "\r\n",
        "Example usage: \r\n",
        "Print help message and exit\r\n",
        " single_rarefaction.py -h\r\n",
        "\r\n",
        "Example: subsample otu_table.biom (-i) at 100 seqs/sample (-d), write results to otu_table_even100.txt (-o).\r\n",
        " single_rarefaction.py -i otu_table.biom -o otu_table_even100.biom -d 100\r\n",
        "\r\n",
        "single_rarefaction.py: error: option -i: file does not exist: 'datasets//otu_table.biom'\r\n"
       ]
      },
      {
       "output_type": "stream",
       "stream": "stdout",
       "text": [
        "mkdir: output/keyboard: File exists\r\n"
       ]
      },
      {
       "output_type": "stream",
       "stream": "stdout",
       "text": [
        "Usage: single_rarefaction.py [options] {-i/--input_path INPUT_PATH -o/--output_path OUTPUT_PATH -d/--depth DEPTH}\r\n",
        "\r\n",
        "[] indicates optional input (order unimportant)\r\n",
        "{} indicates required input (order unimportant)\r\n",
        "\r\n",
        "To perform bootstrap, jackknife, and rarefaction analyses, the otu table must be subsampled (rarefied).  This script rarefies, or subsamples, an OTU table.  This does not provide curves of diversity by number of sequences in a sample. Rather it creates a subsampled OTU table by random sampling (without replacement) of the input OTU table.  Samples that have fewer sequences then the requested rarefaction depth are omitted from the ouput otu tables.  The pseudo-random number generator used for rarefaction by subsampling is NumPy's default - an implementation of the Mersenne twister PRNG.\r\n",
        "\r\n",
        "Example usage: \r\n",
        "Print help message and exit\r\n",
        " single_rarefaction.py -h\r\n",
        "\r\n",
        "Example: subsample otu_table.biom (-i) at 100 seqs/sample (-d), write results to otu_table_even100.txt (-o).\r\n",
        " single_rarefaction.py -i otu_table.biom -o otu_table_even100.biom -d 100\r\n",
        "\r\n",
        "single_rarefaction.py: error: option -i: file does not exist: 'datasets//otu_table.biom'\r\n"
       ]
      },
      {
       "output_type": "stream",
       "stream": "stdout",
       "text": [
        "Usage: single_rarefaction.py [options] {-i/--input_path INPUT_PATH -o/--output_path OUTPUT_PATH -d/--depth DEPTH}\r\n",
        "\r\n",
        "[] indicates optional input (order unimportant)\r\n",
        "{} indicates required input (order unimportant)\r\n",
        "\r\n",
        "To perform bootstrap, jackknife, and rarefaction analyses, the otu table must be subsampled (rarefied).  This script rarefies, or subsamples, an OTU table.  This does not provide curves of diversity by number of sequences in a sample. Rather it creates a subsampled OTU table by random sampling (without replacement) of the input OTU table.  Samples that have fewer sequences then the requested rarefaction depth are omitted from the ouput otu tables.  The pseudo-random number generator used for rarefaction by subsampling is NumPy's default - an implementation of the Mersenne twister PRNG.\r\n",
        "\r\n",
        "Example usage: \r\n",
        "Print help message and exit\r\n",
        " single_rarefaction.py -h\r\n",
        "\r\n",
        "Example: subsample otu_table.biom (-i) at 100 seqs/sample (-d), write results to otu_table_even100.txt (-o).\r\n",
        " single_rarefaction.py -i otu_table.biom -o otu_table_even100.biom -d 100\r\n",
        "\r\n",
        "single_rarefaction.py: error: option -i: file does not exist: 'datasets//otu_table.biom'\r\n"
       ]
      },
      {
       "output_type": "stream",
       "stream": "stdout",
       "text": [
        "Usage: single_rarefaction.py [options] {-i/--input_path INPUT_PATH -o/--output_path OUTPUT_PATH -d/--depth DEPTH}\r\n",
        "\r\n",
        "[] indicates optional input (order unimportant)\r\n",
        "{} indicates required input (order unimportant)\r\n",
        "\r\n",
        "To perform bootstrap, jackknife, and rarefaction analyses, the otu table must be subsampled (rarefied).  This script rarefies, or subsamples, an OTU table.  This does not provide curves of diversity by number of sequences in a sample. Rather it creates a subsampled OTU table by random sampling (without replacement) of the input OTU table.  Samples that have fewer sequences then the requested rarefaction depth are omitted from the ouput otu tables.  The pseudo-random number generator used for rarefaction by subsampling is NumPy's default - an implementation of the Mersenne twister PRNG.\r\n",
        "\r\n",
        "Example usage: \r\n",
        "Print help message and exit\r\n",
        " single_rarefaction.py -h\r\n",
        "\r\n",
        "Example: subsample otu_table.biom (-i) at 100 seqs/sample (-d), write results to otu_table_even100.txt (-o).\r\n",
        " single_rarefaction.py -i otu_table.biom -o otu_table_even100.biom -d 100\r\n",
        "\r\n",
        "single_rarefaction.py: error: option -i: file does not exist: 'datasets//otu_table.biom'\r\n"
       ]
      }
     ],
     "prompt_number": 1
    },
    {
     "cell_type": "code",
     "collapsed": false,
     "input": [],
     "language": "python",
     "metadata": {},
     "outputs": []
    }
   ],
   "metadata": {}
  }
 ]
}