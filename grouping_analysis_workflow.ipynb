{
 "metadata": {
  "name": "grouping_analysis_workflow"
 },
 "nbformat": 3,
 "nbformat_minor": 0,
 "worksheets": [
  {
   "cells": [
    {
     "cell_type": "code",
     "collapsed": false,
     "input": [
      "for method, parse_fn in grouping_methods.items():\n",
      "    fig = figure()\n",
      "    ax1 = fig.add_subplot(111)\n",
      "    ax2 = ax1.twinx()\n",
      "\n",
      "    for category, plot_options in categories.items():\n",
      "        avg_test_stats = []\n",
      "        std_test_stats = []\n",
      "        avg_p_vals = []\n",
      "        std_p_vals = []\n",
      "        \n",
      "        for group_size in group_sizes:\n",
      "            test_stats = []\n",
      "            p_vals = []\n",
      "            \n",
      "            for subset_num in range(1, num_subsets + 1):\n",
      "                results_dir = join(out_dir, 'unweighted_unifrac_dm_%s_ss%d_%d_%s' % (category, group_size, subset_num, method))\n",
      "                test_stat, p_val = parse_fn(open(join(results_dir, '%s_results.txt' % method), 'U'))\n",
      "                test_stats.append(test_stat)\n",
      "                p_vals.append(p_val)\n",
      "                \n",
      "            avg_test_stats.append(mean(test_stats))\n",
      "            std_test_stats.append(std(test_stats))\n",
      "            avg_p_vals.append(mean(p_vals))\n",
      "            std_p_vals.append(std(p_vals))\n",
      "            \n",
      "        # Plot test statistics on left axis.\n",
      "        ax1.errorbar(group_sizes, avg_test_stats, yerr=std_test_stats, color=plot_options[0], label=plot_options[1], fmt='-')\n",
      "        \n",
      "        # Plot p-values on the right axis.\n",
      "        ax2.errorbar(group_sizes, avg_p_vals, yerr=std_p_vals, color=plot_options[0], label=plot_options[1], fmt='-', linestyle='--')\n",
      "    \n",
      "    xlim(0, 85)\n",
      "    title('%s: %s' % (study, method))\n",
      "    ax1.set_xlabel('Samples per group')\n",
      "    ax1.set_ylabel('Average test statistic with standard deviation')\n",
      "    ax2.set_ylabel('Average p-value with standard deviation')\n",
      "    legend()\n",
      "    fig.savefig(join(out_dir, 'grouping_analysis_plot_%s_%s.pdf' % (study, method)), format='pdf')"
     ],
     "language": "python",
     "metadata": {},
     "outputs": [],
     "prompt_number": 31
    }
   ],
   "metadata": {}
  }
 ]
}